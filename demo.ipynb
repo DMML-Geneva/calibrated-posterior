{
 "cells": [
  {
   "cell_type": "code",
   "execution_count": 1,
   "id": "boxed-socket",
   "metadata": {
    "pycharm": {
     "name": "#%%\n"
    }
   },
   "outputs": [],
   "source": [
    "%matplotlib inline\n",
    "\n",
    "from copy import deepcopy\n",
    "import os\n",
    "\n",
    "import matplotlib.pyplot as plt\n",
    "import numpy as np\n",
    "import torch\n",
    "from torch import nn\n",
    "import torch.optim as optim\n",
    "\n",
    "from lampe.data import JointLoader, H5Dataset\n",
    "from zuko.distributions import BoxUniform\n",
    "from lampe.inference import NRE, NRELoss, BNRELoss, MetropolisHastings\n",
    "from lampe.plots import nice_rc, corner, mark_point\n",
    "from lampe.utils import GDStep, gridapply\n",
    "from tqdm import tqdm"
   ]
  },
  {
   "cell_type": "markdown",
   "id": "boring-crash",
   "metadata": {
    "pycharm": {
     "name": "#%% md\n"
    }
   },
   "source": [
    "## Define the simulator"
   ]
  },
  {
   "cell_type": "code",
   "execution_count": 2,
   "id": "fluid-appointment",
   "metadata": {
    "pycharm": {
     "name": "#%%\n"
    }
   },
   "outputs": [],
   "source": [
    "LOWER = -3 * torch.ones(2)\n",
    "UPPER = 3 * torch.ones(2)\n",
    "\n",
    "prior = BoxUniform(LOWER, UPPER)\n",
    "\n",
    "\n",
    "def slcp(theta):\n",
    "    # Mean\n",
    "    mean = torch.tensor([0.7, -2.9])\n",
    "\n",
    "    # Covariance\n",
    "    s1 = theta[0] ** 2\n",
    "    s2 = theta[1] ** 2\n",
    "    rho = torch.distributions.uniform.Uniform(-3.0, 3.0).sample().tanh()\n",
    "\n",
    "    cov = torch.stack(\n",
    "        [\n",
    "            s1**2,\n",
    "            rho * s1 * s2,\n",
    "            rho * s1 * s2,\n",
    "            s2**2,\n",
    "        ]\n",
    "    ).reshape(2, 2)\n",
    "\n",
    "    normal = torch.distributions.MultivariateNormal(mean, cov)\n",
    "\n",
    "    return normal.sample((4,)).view(-1)"
   ]
  },
  {
   "cell_type": "markdown",
   "id": "realistic-adaptation",
   "metadata": {
    "pycharm": {
     "name": "#%% md\n"
    }
   },
   "source": [
    "## Test the simulator"
   ]
  },
  {
   "cell_type": "code",
   "execution_count": 3,
   "id": "dbaca420",
   "metadata": {
    "collapsed": false,
    "jupyter": {
     "outputs_hidden": false
    },
    "pycharm": {
     "name": "#%%\n"
    }
   },
   "outputs": [
    {
     "name": "stdout",
     "output_type": "stream",
     "text": [
      "tensor([ 2.5536, -0.6471])\n",
      "tensor([-6.4485, -2.8730,  4.9502, -3.3689, -5.7819, -2.5483, 13.9668, -3.4072])\n"
     ]
    }
   ],
   "source": [
    "theta = prior.sample()\n",
    "x = slcp(theta)\n",
    "\n",
    "print(theta, x, sep=\"\\n\")"
   ]
  },
  {
   "cell_type": "markdown",
   "id": "883a15e8",
   "metadata": {
    "pycharm": {
     "name": "#%% md\n"
    }
   },
   "source": [
    "## Create the datasets"
   ]
  },
  {
   "cell_type": "code",
   "execution_count": 5,
   "id": "8de2870b",
   "metadata": {
    "collapsed": false,
    "jupyter": {
     "outputs_hidden": false
    },
    "pycharm": {
     "name": "#%%\n"
    }
   },
   "outputs": [
    {
     "name": "stderr",
     "output_type": "stream",
     "text": [
      "100%|███████████████████████████████████████████████████████████████████████████████████████████████████████████████████████████████████████████████| 4096/4096 [00:01<00:00, 3982.35sample/s]\n",
      "100%|███████████████████████████████████████████████████████████████████████████████████████████████████████████████████████████████████████████████| 1024/1024 [00:00<00:00, 6972.26sample/s]\n",
      "100%|███████████████████████████████████████████████████████████████████████████████████████████████████████████████████████████████████████████████| 1024/1024 [00:00<00:00, 6968.68sample/s]\n"
     ]
    }
   ],
   "source": [
    "loader = JointLoader(prior, slcp, batch_size=512, vectorized=False)\n",
    "\n",
    "H5Dataset.store(loader, \"data_train.h5\", size=2**12, overwrite=True)\n",
    "H5Dataset.store(loader, \"data_valid.h5\", size=2**10, overwrite=True)\n",
    "H5Dataset.store(loader, \"data_test.h5\", size=2**10, overwrite=True)\n",
    "\n",
    "trainset = H5Dataset(\"data_train.h5\", batch_size=128, shuffle=True)\n",
    "validset = H5Dataset(\"data_valid.h5\", batch_size=128)\n",
    "testset = H5Dataset(\"data_test.h5\")"
   ]
  },
  {
   "cell_type": "markdown",
   "id": "1767f7b3-8585-4e2f-a2b3-51caca302bdd",
   "metadata": {},
   "source": [
    "# Initialize estimator"
   ]
  },
  {
   "cell_type": "code",
   "execution_count": 6,
   "id": "7a61b8e1-fe61-4a4c-8d6b-dbf22e67e92c",
   "metadata": {},
   "outputs": [],
   "source": [
    "# MLP\n",
    "estimator = NRE(2, 8, hidden_features=[256] * 6, activation=\"SELU\")"
   ]
  },
  {
   "cell_type": "markdown",
   "id": "97828275",
   "metadata": {
    "pycharm": {
     "name": "#%% md\n"
    }
   },
   "source": [
    "## Train the models"
   ]
  },
  {
   "cell_type": "code",
   "execution_count": 7,
   "id": "5cb141bf",
   "metadata": {
    "collapsed": false,
    "jupyter": {
     "outputs_hidden": false
    },
    "pycharm": {
     "name": "#%%\n"
    }
   },
   "outputs": [
    {
     "name": "stderr",
     "output_type": "stream",
     "text": [
      " 34%|██████████████████████████████████████▊                                                                          | 44/128 [00:08<00:15,  5.38epoch/s, train_loss=0.467, valid_loss=0.605]"
     ]
    },
    {
     "name": "stdout",
     "output_type": "stream",
     "text": [
      "Epoch 00043: reducing learning rate of group 0 to 1.0000e-04.\n"
     ]
    },
    {
     "name": "stderr",
     "output_type": "stream",
     "text": [
      " 43%|████████████████████████████████████████████████▌                                                                | 55/128 [00:10<00:13,  5.40epoch/s, train_loss=0.339, valid_loss=0.663]"
     ]
    },
    {
     "name": "stdout",
     "output_type": "stream",
     "text": [
      "Epoch 00054: reducing learning rate of group 0 to 1.0000e-05.\n"
     ]
    },
    {
     "name": "stderr",
     "output_type": "stream",
     "text": [
      " 52%|██████████████████████████████████████████████████████████▎                                                      | 66/128 [00:12<00:11,  5.41epoch/s, train_loss=0.339, valid_loss=0.682]"
     ]
    },
    {
     "name": "stdout",
     "output_type": "stream",
     "text": [
      "Epoch 00065: reducing learning rate of group 0 to 1.0000e-06.\n"
     ]
    },
    {
     "name": "stderr",
     "output_type": "stream",
     "text": [
      " 60%|███████████████████████████████████████████████████████████████████▉                                             | 77/128 [00:14<00:09,  5.22epoch/s, train_loss=0.329, valid_loss=0.687]"
     ]
    },
    {
     "name": "stdout",
     "output_type": "stream",
     "text": [
      "Epoch 00076: reducing learning rate of group 0 to 1.0000e-07.\n"
     ]
    },
    {
     "name": "stderr",
     "output_type": "stream",
     "text": [
      " 69%|██████████████████████████████████████████████████████████████████████████████▍                                   | 88/128 [00:16<00:07,  5.41epoch/s, train_loss=0.35, valid_loss=0.688]"
     ]
    },
    {
     "name": "stdout",
     "output_type": "stream",
     "text": [
      "Epoch 00087: reducing learning rate of group 0 to 1.0000e-08.\n"
     ]
    },
    {
     "name": "stderr",
     "output_type": "stream",
     "text": [
      "100%|████████████████████████████████████████████████████████████████████████████████████████████████████████████████| 128/128 [00:23<00:00,  5.35epoch/s, train_loss=0.341, valid_loss=0.688]\n",
      " 35%|████████████████████████████████████████▍                                                                          | 45/128 [00:08<00:15,  5.28epoch/s, train_loss=1.06, valid_loss=1.19]"
     ]
    },
    {
     "name": "stdout",
     "output_type": "stream",
     "text": [
      "Epoch 00044: reducing learning rate of group 0 to 1.0000e-04.\n"
     ]
    },
    {
     "name": "stderr",
     "output_type": "stream",
     "text": [
      " 70%|██████████████████████████████████████████████████████████████████████████████▌                                  | 89/128 [00:17<00:07,  5.21epoch/s, train_loss=0.936, valid_loss=0.978]"
     ]
    },
    {
     "name": "stdout",
     "output_type": "stream",
     "text": [
      "Epoch 00088: reducing learning rate of group 0 to 1.0000e-05.\n"
     ]
    },
    {
     "name": "stderr",
     "output_type": "stream",
     "text": [
      " 78%|████████████████████████████████████████████████████████████████████████████████████████▎                        | 100/128 [00:19<00:05,  5.28epoch/s, train_loss=0.828, valid_loss=1.18]"
     ]
    },
    {
     "name": "stdout",
     "output_type": "stream",
     "text": [
      "Epoch 00099: reducing learning rate of group 0 to 1.0000e-06.\n"
     ]
    },
    {
     "name": "stderr",
     "output_type": "stream",
     "text": [
      " 87%|█████████████████████████████████████████████████████████████████████████████████████████████████▉               | 111/128 [00:21<00:03,  5.25epoch/s, train_loss=0.863, valid_loss=1.14]"
     ]
    },
    {
     "name": "stdout",
     "output_type": "stream",
     "text": [
      "Epoch 00110: reducing learning rate of group 0 to 1.0000e-07.\n"
     ]
    },
    {
     "name": "stderr",
     "output_type": "stream",
     "text": [
      " 95%|███████████████████████████████████████████████████████████████████████████████████████████████████████████▋     | 122/128 [00:23<00:01,  5.28epoch/s, train_loss=0.866, valid_loss=1.13]"
     ]
    },
    {
     "name": "stdout",
     "output_type": "stream",
     "text": [
      "Epoch 00121: reducing learning rate of group 0 to 1.0000e-08.\n"
     ]
    },
    {
     "name": "stderr",
     "output_type": "stream",
     "text": [
      "100%|█████████████████████████████████████████████████████████████████████████████████████████████████████████████████| 128/128 [00:24<00:00,  5.24epoch/s, train_loss=0.874, valid_loss=1.13]\n"
     ]
    }
   ],
   "source": [
    "def train_estimator(estimator, balanced: bool, epochs=128):\n",
    "    # Setup optimizer\n",
    "    if balanced:\n",
    "        loss = BNRELoss(estimator, 100.0)\n",
    "    else:\n",
    "        loss = NRELoss(estimator)\n",
    "\n",
    "    optimizer = optim.AdamW(estimator.parameters(), lr=1e-3, weight_decay=0)\n",
    "    step = GDStep(\n",
    "        optimizer, clip=1\n",
    "    )  # gradient descent step with gradient clipping\n",
    "    scheduler = torch.optim.lr_scheduler.ReduceLROnPlateau(\n",
    "        optimizer, verbose=True\n",
    "    )\n",
    "\n",
    "    # Keep track of the best weights\n",
    "    best_loss = float(\"inf\")\n",
    "    best_weights = estimator.state_dict()\n",
    "\n",
    "    with tqdm(range(epochs), unit=\"epoch\") as tq:\n",
    "        for epoch in tq:\n",
    "            estimator.train()\n",
    "\n",
    "            train_loss = (\n",
    "                torch.stack([step(loss(theta, x)) for theta, x in trainset])\n",
    "                .mean()\n",
    "                .item()\n",
    "            )\n",
    "\n",
    "            estimator.eval()\n",
    "\n",
    "            with torch.no_grad():\n",
    "                valid_loss = (\n",
    "                    torch.stack([loss(theta, x) for theta, x in validset])\n",
    "                    .mean()\n",
    "                    .item()\n",
    "                )\n",
    "                scheduler.step(valid_loss)\n",
    "\n",
    "            # Save the weights if they achieve the best validation loss\n",
    "            if valid_loss < best_loss:\n",
    "                best_loss = valid_loss\n",
    "                best_weights = deepcopy(estimator.state_dict())\n",
    "\n",
    "            tq.set_postfix(train_loss=train_loss, valid_loss=valid_loss)\n",
    "\n",
    "    # Load the weights that achieved the best validation loss\n",
    "    estimator.load_state_dict(best_weights)\n",
    "\n",
    "    return estimator\n",
    "\n",
    "\n",
    "nre_estimator = train_estimator(\n",
    "    estimator=deepcopy(estimator), balanced=False, epochs=128\n",
    ")\n",
    "bnre_estimator = train_estimator(\n",
    "    estimator=deepcopy(estimator), balanced=True, epochs=128\n",
    ")"
   ]
  },
  {
   "cell_type": "code",
   "execution_count": 8,
   "id": "ce5013a8",
   "metadata": {
    "collapsed": false,
    "jupyter": {
     "outputs_hidden": false
    },
    "pycharm": {
     "name": "#%%\n"
    }
   },
   "outputs": [
    {
     "name": "stderr",
     "output_type": "stream",
     "text": [
      " 35%|████████████████████████████████████████                                                                          | 45/128 [00:36<01:07,  1.24epoch/s, train_loss=0.51, valid_loss=0.619]"
     ]
    },
    {
     "name": "stdout",
     "output_type": "stream",
     "text": [
      "Epoch 00045: reducing learning rate of group 0 to 1.0000e-04.\n"
     ]
    },
    {
     "name": "stderr",
     "output_type": "stream",
     "text": [
      " 44%|█████████████████████████████████████████████████▉                                                                | 56/128 [00:45<00:58,  1.23epoch/s, train_loss=0.364, valid_loss=0.64]"
     ]
    },
    {
     "name": "stdout",
     "output_type": "stream",
     "text": [
      "Epoch 00056: reducing learning rate of group 0 to 1.0000e-05.\n"
     ]
    },
    {
     "name": "stderr",
     "output_type": "stream",
     "text": [
      " 52%|███████████████████████████████████████████████████████████▏                                                     | 67/128 [00:54<00:47,  1.27epoch/s, train_loss=0.333, valid_loss=0.673]"
     ]
    },
    {
     "name": "stdout",
     "output_type": "stream",
     "text": [
      "Epoch 00067: reducing learning rate of group 0 to 1.0000e-06.\n"
     ]
    },
    {
     "name": "stderr",
     "output_type": "stream",
     "text": [
      " 61%|████████████████████████████████████████████████████████████████████▊                                            | 78/128 [01:02<00:39,  1.26epoch/s, train_loss=0.346, valid_loss=0.676]"
     ]
    },
    {
     "name": "stdout",
     "output_type": "stream",
     "text": [
      "Epoch 00078: reducing learning rate of group 0 to 1.0000e-07.\n"
     ]
    },
    {
     "name": "stderr",
     "output_type": "stream",
     "text": [
      " 70%|██████████████████████████████████████████████████████████████████████████████▌                                  | 89/128 [01:11<00:31,  1.25epoch/s, train_loss=0.341, valid_loss=0.674]"
     ]
    },
    {
     "name": "stdout",
     "output_type": "stream",
     "text": [
      "Epoch 00089: reducing learning rate of group 0 to 1.0000e-08.\n"
     ]
    },
    {
     "name": "stderr",
     "output_type": "stream",
     "text": [
      "100%|████████████████████████████████████████████████████████████████████████████████████████████████████████████████| 128/128 [01:41<00:00,  1.26epoch/s, train_loss=0.352, valid_loss=0.668]\n"
     ]
    }
   ],
   "source": [
    "from torch.nn import functional as F\n",
    "import torchsort\n",
    "from functorch import vmap\n",
    "\n",
    "\n",
    "def batched_get_logq_for_ranks(model, x, y, prior, n_samples):\n",
    "    if x.shape[-1] == 1:\n",
    "        inputs = torch.cat(\n",
    "            [\n",
    "                x.unsqueeze(1),\n",
    "                prior.sample(x.shape + (n_samples,)).movedim(-1, 1),\n",
    "            ],\n",
    "            dim=1,\n",
    "        )\n",
    "    else:\n",
    "        inputs = torch.cat(\n",
    "            [\n",
    "                x.unsqueeze(1),\n",
    "                prior.sample(x.shape[:1] + (n_samples,)),\n",
    "            ],\n",
    "            dim=1,\n",
    "        )\n",
    "    log_prior_probabilities = prior.log_prob(inputs)\n",
    "    log_ratios = vmap(model, in_dims=(1, None), out_dims=1)(\n",
    "        inputs, y\n",
    "    ).squeeze()\n",
    "    return log_prior_probabilities + log_ratios\n",
    "\n",
    "\n",
    "class STEFunctionRanksq(torch.autograd.Function):\n",
    "    @staticmethod\n",
    "    def forward(ctx, input):\n",
    "        return (input > 0).float()\n",
    "\n",
    "    @staticmethod\n",
    "    def backward(ctx, grad_output):\n",
    "        return F.hardtanh(grad_output)\n",
    "\n",
    "\n",
    "class STEFunctionRankslogq(torch.autograd.Function):\n",
    "    @staticmethod\n",
    "    def forward(ctx, input):\n",
    "        return torch.where(input >= 0, 0, float(\"-inf\"))\n",
    "\n",
    "    @staticmethod\n",
    "    def backward(ctx, grad_output):\n",
    "        return F.hardtanh(grad_output)\n",
    "\n",
    "\n",
    "def get_ranks(model, x, y, prior, n_samples, logits=False):\n",
    "    logq = batched_get_logq_for_ranks(model, x, y, prior, n_samples)\n",
    "    if logits:\n",
    "        return (\n",
    "            (\n",
    "                logq[:, 1:]\n",
    "                + STEFunctionRankslogq.apply(\n",
    "                    logq[:, 0].unsqueeze(1) - logq[:, 1:]\n",
    "                )\n",
    "            ).logsumexp(dim=1)\n",
    "            - logq[:, 1:].logsumexp(dim=1)\n",
    "        ).exp()\n",
    "    else:\n",
    "        q = logq.exp()\n",
    "        return (\n",
    "            q[:, 1:] * STEFunctionRanksq.apply(q[:, 0].unsqueeze(1) - q[:, 1:])\n",
    "        ).sum(dim=1) / q[:, 1:].sum(dim=1)\n",
    "\n",
    "\n",
    "def get_coverage(ranks):\n",
    "    # Source: https://github.com/montefiore-ai/balanced-nre/blob/main/demo.ipynb\n",
    "    # As a sample at a given rank belongs to the credible regions at levels 1-rank and below,\n",
    "    # the coverage at level 1-alpha is the proportion of samples with ranks alpha and above.\n",
    "    ranks = ranks[~ranks.isnan()]\n",
    "    alpha = torchsort.soft_sort(ranks.unsqueeze(0)).squeeze()\n",
    "    return (\n",
    "        torch.linspace(0.0, 1.0, len(alpha) + 2)[1:-1],\n",
    "        1 - torch.flip(alpha, dims=(0,)),\n",
    "    )\n",
    "\n",
    "\n",
    "def get_calibration_error(\n",
    "    model,\n",
    "    x,\n",
    "    y,\n",
    "    prior,\n",
    "    n_samples,\n",
    "    calibration=0,\n",
    "    logits=False,\n",
    "    instances_subsample=1,\n",
    "):\n",
    "    if instances_subsample < 1:\n",
    "        idxs = torch.randperm(x.shape[0], device=x.device)\n",
    "        x = x[idxs[: int(x.shape[0] * instances_subsample)]]\n",
    "        y = y[idxs[: int(y.shape[0] * instances_subsample)]]\n",
    "    ranks = get_ranks(\n",
    "        model,\n",
    "        x,\n",
    "        y,\n",
    "        prior,\n",
    "        logits=logits,\n",
    "        n_samples=n_samples,\n",
    "    )\n",
    "    coverage, expected = get_coverage(\n",
    "        ranks,\n",
    "    )\n",
    "    if calibration == 0:\n",
    "        return torch.nn.functional.relu(expected - coverage).pow(2).mean()\n",
    "    elif calibration == 1:\n",
    "        return (coverage - expected).pow(2).mean()\n",
    "    else:\n",
    "        return (\n",
    "            (\n",
    "                (1 - calibration)\n",
    "                * torch.nn.functional.relu(expected - coverage)\n",
    "                + calibration * (coverage - expected)\n",
    "            )\n",
    "            .pow(2)\n",
    "            .mean()\n",
    "        )\n",
    "\n",
    "\n",
    "class CalNRELoss(nn.Module):\n",
    "    def __init__(\n",
    "        self,\n",
    "        estimator: nn.Module,\n",
    "        prior,\n",
    "        n_samples,\n",
    "        instances_subsample,\n",
    "        calibration,\n",
    "        lmbda: float = 100.0,\n",
    "    ):\n",
    "        super().__init__()\n",
    "\n",
    "        self.estimator = estimator\n",
    "        self.lmbda = lmbda\n",
    "        self.prior = prior\n",
    "        self.n_samples = n_samples\n",
    "        self.instances_subsample = instances_subsample\n",
    "        self.calibration = calibration\n",
    "\n",
    "    def forward(\n",
    "        self,\n",
    "        theta: torch.Tensor,\n",
    "        x: torch.Tensor,\n",
    "    ) -> torch.Tensor:\n",
    "        r\"\"\"\n",
    "        Arguments:\n",
    "            theta: The parameters :math:`\\theta`, with shape :math:`(N, D)`.\n",
    "            x: The observation :math:`x`, with shape :math:`(N, L)`.\n",
    "\n",
    "        Returns:\n",
    "            The scalar loss :math:`l`.\n",
    "        \"\"\"\n",
    "        regularizer = get_calibration_error(\n",
    "            model=self.estimator,\n",
    "            x=theta,\n",
    "            y=x,\n",
    "            prior=self.prior,\n",
    "            logits=False,\n",
    "            n_samples=self.n_samples,\n",
    "            instances_subsample=self.instances_subsample,\n",
    "            calibration=self.calibration,\n",
    "        )\n",
    "\n",
    "        theta_prime = torch.roll(theta, 1, dims=0)\n",
    "\n",
    "        log_r, log_r_prime = self.estimator(\n",
    "            torch.stack((theta, theta_prime)),\n",
    "            x,\n",
    "        )\n",
    "        y, y_prime = log_r.sigmoid(), log_r_prime.sigmoid()\n",
    "        bce_loss = torch.nn.BCELoss()(\n",
    "            y, torch.ones_like(y)\n",
    "        ) + torch.nn.BCELoss()(y_prime, torch.zeros_like(y_prime))\n",
    "        return bce_loss + self.lmbda * regularizer\n",
    "\n",
    "\n",
    "def train_cal_estimator(\n",
    "    estimator,\n",
    "    lmbda,\n",
    "    prior,\n",
    "    n_samples,\n",
    "    instances_subsample,\n",
    "    calibration,\n",
    "    epochs=128,\n",
    "    verbose=True,\n",
    "):\n",
    "    # Setup optimizer\n",
    "    loss = CalNRELoss(\n",
    "        estimator,\n",
    "        lmbda=lmbda,\n",
    "        prior=prior,\n",
    "        n_samples=n_samples,\n",
    "        instances_subsample=instances_subsample,\n",
    "        calibration=calibration,\n",
    "    )\n",
    "\n",
    "    optimizer = optim.AdamW(estimator.parameters(), lr=1e-3, weight_decay=0)\n",
    "    step = GDStep(\n",
    "        optimizer, clip=1\n",
    "    )  # gradient descent step with gradient clipping\n",
    "    scheduler = torch.optim.lr_scheduler.ReduceLROnPlateau(\n",
    "        optimizer, verbose=verbose\n",
    "    )\n",
    "\n",
    "    # Keep track of the best weights\n",
    "    best_loss = float(\"inf\")\n",
    "    best_weights = estimator.state_dict()\n",
    "\n",
    "    with tqdm(range(epochs), unit=\"epoch\", disable=not verbose) as tq:\n",
    "        for epoch in tq:\n",
    "            estimator.train()\n",
    "\n",
    "            train_loss = (\n",
    "                torch.stack([step(loss(theta, x)) for theta, x in trainset])\n",
    "                .mean()\n",
    "                .item()\n",
    "            )\n",
    "\n",
    "            estimator.eval()\n",
    "\n",
    "            with torch.no_grad():\n",
    "                valid_loss = (\n",
    "                    torch.stack([loss(theta, x) for theta, x in validset])\n",
    "                    .mean()\n",
    "                    .item()\n",
    "                )\n",
    "            scheduler.step(valid_loss)\n",
    "\n",
    "            # Save the weights if they achieve the best validation loss\n",
    "            if valid_loss < best_loss:\n",
    "                best_loss = valid_loss\n",
    "                best_weights = deepcopy(estimator.state_dict())\n",
    "\n",
    "            tq.set_postfix(train_loss=train_loss, valid_loss=valid_loss)\n",
    "\n",
    "    # Load the weights that achieved the best validation loss\n",
    "    estimator.load_state_dict(best_weights)\n",
    "\n",
    "    return estimator\n",
    "\n",
    "\n",
    "cal_nre_estimator = train_cal_estimator(\n",
    "    estimator=deepcopy(estimator),\n",
    "    lmbda=5.0,\n",
    "    prior=prior,\n",
    "    n_samples=16,\n",
    "    instances_subsample=1,\n",
    "    calibration=0,\n",
    "    epochs=128,\n",
    ")"
   ]
  },
  {
   "cell_type": "markdown",
   "id": "1a8ee834",
   "metadata": {
    "pycharm": {
     "name": "#%% md\n"
    }
   },
   "source": [
    "## Compare posteriors obtained with NRE to the ones obtained with BNRE"
   ]
  },
  {
   "cell_type": "code",
   "execution_count": 9,
   "id": "12e67feb",
   "metadata": {
    "collapsed": false,
    "jupyter": {
     "outputs_hidden": false
    },
    "pycharm": {
     "name": "#%%\n"
    }
   },
   "outputs": [
    {
     "data": {
      "image/png": "[encoded data removed]",
      "text/plain": [
       "<Figure size 1275x480 with 4 Axes>"
      ]
     },
     "metadata": {},
     "output_type": "display_data"
    }
   ],
   "source": [
    "BINS = 100\n",
    "\n",
    "theta_star = prior.sample()\n",
    "x_star = slcp(theta_star)\n",
    "\n",
    "plt.rcParams.update(nice_rc())\n",
    "fig, axs = plt.subplots(\n",
    "    ncols=4,\n",
    "    figsize=(8.5, 3.2),\n",
    "    gridspec_kw={\"width_ratios\": [3.2, 3.2, 3.2, 0.1]},\n",
    ")\n",
    "\n",
    "\n",
    "# NRE\n",
    "@torch.no_grad()\n",
    "def posterior(theta):  # p(\\theta | x^*)\n",
    "    return (nre_estimator(theta, x_star) + prior.log_prob(theta)).exp()\n",
    "\n",
    "\n",
    "theta, probs = gridapply(posterior, bins=BINS, bounds=(LOWER, UPPER))\n",
    "\n",
    "vmax = probs.max().item()\n",
    "\n",
    "cplot = axs[0].contourf(\n",
    "    theta[..., 0], theta[..., 1], probs, cmap=\"Blues\", vmax=vmax\n",
    ")\n",
    "axs[0].plot(theta_star[0], theta_star[1], \"*\", markersize=8, color=\"k\")\n",
    "axs[0].set_title(\"NRE\")\n",
    "\n",
    "\n",
    "# BNRE\n",
    "@torch.no_grad()\n",
    "def posterior(theta):  # p(\\theta | x^*)\n",
    "    return (bnre_estimator(theta, x_star) + prior.log_prob(theta)).exp()\n",
    "\n",
    "\n",
    "theta, probs = gridapply(posterior, bins=BINS, bounds=(LOWER, UPPER))\n",
    "\n",
    "axs[1].contourf(theta[..., 0], theta[..., 1], probs, cmap=\"Blues\", vmax=vmax)\n",
    "axs[1].plot(theta_star[0], theta_star[1], \"*\", markersize=8, color=\"k\")\n",
    "axs[1].set_title(\"BNRE\")\n",
    "\n",
    "\n",
    "# CalNRE\n",
    "@torch.no_grad()\n",
    "def posterior(theta):  # p(\\theta | x^*)\n",
    "    return (cal_nre_estimator(theta, x_star) + prior.log_prob(theta)).exp()\n",
    "\n",
    "\n",
    "theta, probs = gridapply(posterior, bins=BINS, bounds=(LOWER, UPPER))\n",
    "\n",
    "axs[2].contourf(theta[..., 0], theta[..., 1], probs, cmap=\"Blues\", vmax=vmax)\n",
    "axs[2].plot(theta_star[0], theta_star[1], \"*\", markersize=8, color=\"k\")\n",
    "axs[2].set_title(\"CalNRE\")\n",
    "\n",
    "plt.colorbar(cplot, cax=axs[3])\n",
    "plt.show()"
   ]
  },
  {
   "cell_type": "markdown",
   "id": "22ae3c6e",
   "metadata": {
    "pycharm": {
     "name": "#%% md\n"
    }
   },
   "source": [
    "## Compute expected coverage curves"
   ]
  },
  {
   "cell_type": "code",
   "execution_count": 10,
   "id": "7566b610",
   "metadata": {
    "collapsed": false,
    "jupyter": {
     "outputs_hidden": false
    },
    "pycharm": {
     "name": "#%%\n"
    }
   },
   "outputs": [
    {
     "name": "stderr",
     "output_type": "stream",
     "text": [
      "/home/maciej/venvs/calibrated-posterior/lib/python3.9/site-packages/torch/functional.py:504: UserWarning: torch.meshgrid: in an upcoming release, it will be required to pass the indexing argument. (Triggered internally at ../aten/src/ATen/native/TensorShape.cpp:3190.)\n",
      "  return _VF.meshgrid(tensors, **kwargs)  # type: ignore[attr-defined]\n",
      "Coverages evaluated: 100%|████████████████████████████████████████████████████████████████████████████████████████████████████████████████████████████████| 1024/1024 [01:11<00:00, 14.32it/s]\n",
      "Coverages evaluated: 100%|████████████████████████████████████████████████████████████████████████████████████████████████████████████████████████████████| 1024/1024 [01:08<00:00, 14.89it/s]\n",
      "Coverages evaluated: 100%|████████████████████████████████████████████████████████████████████████████████████████████████████████████████████████████████| 1024/1024 [01:11<00:00, 14.39it/s]\n"
     ]
    },
    {
     "data": {
      "image/png": "[encoded data removed]",
      "text/plain": [
       "<Figure size 480x480 with 1 Axes>"
      ]
     },
     "metadata": {},
     "output_type": "display_data"
    }
   ],
   "source": [
    "confidence_levels = np.linspace(0.05, 0.95, 19)\n",
    "\n",
    "\n",
    "@torch.no_grad()\n",
    "def highest_density_level(density, alpha, min_epsilon=10e-10, region=False):\n",
    "    # Check if a numpy type has been specified\n",
    "    if type(density).__module__ != np.__name__:\n",
    "        density = density.cpu().clone().numpy()\n",
    "    else:\n",
    "        density = np.array(density)\n",
    "    density = density.astype(np.float64)\n",
    "    # Check the discrete sum of the density (for scaling)\n",
    "    integrand = density.sum()\n",
    "    density /= integrand\n",
    "    # Compute the level such that 1 - alpha has been satisfied.\n",
    "    optimal_level = density.max()\n",
    "    epsilon = 10e-00  # Current error\n",
    "    while epsilon >= min_epsilon:\n",
    "        optimal_level += 2 * epsilon  # Overshoot solution, move back\n",
    "        epsilon /= 10\n",
    "        area = 0.0\n",
    "        while area < (1 - alpha):\n",
    "            area_under = density >= optimal_level\n",
    "            area = np.sum(area_under * density)\n",
    "            optimal_level -= epsilon  # Gradient descent to reduce error\n",
    "    optimal_level += epsilon / 2\n",
    "    # Rescale to original\n",
    "    optimal_level *= integrand\n",
    "    # Check if the computed mask needs to be returned\n",
    "    if region:\n",
    "        return optimal_level, area_under\n",
    "    else:\n",
    "        return optimal_level\n",
    "\n",
    "\n",
    "resolution = 90\n",
    "epsilon = 0.00001\n",
    "p1 = torch.linspace(\n",
    "    LOWER[0], UPPER[0] - epsilon, resolution\n",
    ")  # Account for half-open interval of uniform prior\n",
    "p2 = torch.linspace(\n",
    "    LOWER[1], UPPER[1] - epsilon, resolution\n",
    ")  # Account for half-open interval of uniform prior\n",
    "g1, g2 = torch.meshgrid(p1.view(-1), p2.view(-1))\n",
    "inputs = torch.cat([g1.reshape(-1, 1), g2.reshape(-1, 1)], dim=1)\n",
    "log_prior_probabilities = prior.log_prob(inputs).view(-1, 1)\n",
    "\n",
    "\n",
    "@torch.no_grad()\n",
    "def estimate_coverage(r, alphas=[0.05], verbose=True):\n",
    "    n = len(testset)\n",
    "    covered = [0 for _ in alphas]\n",
    "\n",
    "    for index, (nominal, observable) in enumerate(\n",
    "        tqdm(testset, \"Coverages evaluated\", disable=not verbose)\n",
    "    ):\n",
    "        # Prepare setup\n",
    "        observables = observable.repeat(resolution**2, 1).float()\n",
    "        log_ratios = r(inputs, observables).unsqueeze(-1)\n",
    "        pdf = (\n",
    "            (log_prior_probabilities + log_ratios).view(resolution, resolution)\n",
    "        ).exp()\n",
    "        nominal_pdf = (r(nominal, observable) + prior.log_prob(nominal)).exp()\n",
    "        for i, alpha in enumerate(alphas):\n",
    "            level, mask = highest_density_level(pdf, alpha, region=True)\n",
    "            if nominal_pdf >= level:\n",
    "                covered[i] += 1\n",
    "\n",
    "    return [x / n for x in covered]\n",
    "\n",
    "\n",
    "fig = plt.figure(figsize=(3.2, 3.2))\n",
    "\n",
    "plt.plot([0, 1], [0, 1], \"--k\")\n",
    "coverage = estimate_coverage(nre_estimator, confidence_levels)\n",
    "plt.plot([1, *(1 - confidence_levels), 0], [1, *coverage, 0], label=\"NRE\")\n",
    "coverage = estimate_coverage(bnre_estimator, confidence_levels)\n",
    "plt.plot([1, *(1 - confidence_levels), 0], [1, *coverage, 0], label=\"BNRE\")\n",
    "coverage = estimate_coverage(cal_nre_estimator, confidence_levels)\n",
    "plt.plot([1, *(1 - confidence_levels), 0], [1, *coverage, 0], label=\"CalNRE\")\n",
    "\n",
    "plt.grid()\n",
    "plt.xlabel(r\"$1 - \\alpha$\")\n",
    "plt.ylabel(\"Expected coverage\")\n",
    "plt.legend()\n",
    "plt.show()"
   ]
  },
  {
   "cell_type": "markdown",
   "id": "4364c340",
   "metadata": {
    "pycharm": {
     "name": "#%% md\n"
    }
   },
   "source": [
    "# CalNRE HP search"
   ]
  },
  {
   "cell_type": "code",
   "execution_count": 11,
   "id": "cd87498d",
   "metadata": {
    "collapsed": false,
    "jupyter": {
     "outputs_hidden": false
    },
    "pycharm": {
     "name": "#%%\n"
    }
   },
   "outputs": [],
   "source": [
    "# lmbdas = [5, 10, 20, 40, 80, 100]\n",
    "# n_sampless = [2, 4, 8, 16, 32, 64]\n",
    "\n",
    "# con_results = np.ones(\n",
    "#     (len(lmbdas), len(n_sampless),)\n",
    "# ) * float(\"inf\")\n",
    "\n",
    "# cal_results = np.ones(\n",
    "#     (len(lmbdas), len(n_sampless),)\n",
    "# ) * float(\"inf\")\n",
    "\n",
    "# for lmbda_idx, lmbda in enumerate(tqdm(lmbdas, \"Lambdas\")):\n",
    "#     for n_samples_idx, n_samples in enumerate(tqdm(n_sampless, \"#Samples\")):\n",
    "#         cal_nre_estimator = train_cal_estimator(\n",
    "#             estimator=deepcopy(estimator),\n",
    "#             lmbda=lmbda,\n",
    "#             prior=prior,\n",
    "#             n_samples=int(n_samples),\n",
    "#             instances_subsample=1,\n",
    "#             calibration=0,\n",
    "#             epochs=500,\n",
    "#             verbose=False,\n",
    "#         )\n",
    "#         with torch.no_grad():\n",
    "#             coverage = estimate_coverage(cal_nre_estimator, confidence_levels, verbose=False)\n",
    "#             con_results[\n",
    "#                 lmbda_idx, n_samples_idx\n",
    "#             ] = np.maximum((1 - confidence_levels) - coverage, 0).mean()\n",
    "#             cal_results[\n",
    "#                 lmbda_idx, n_samples_idx\n",
    "#             ] = np.absolute((1 - confidence_levels) - coverage).mean()\n",
    "\n",
    "\n",
    "# fig, axs = plt.subplots(\n",
    "#     ncols=3,\n",
    "#     figsize=(6.5, 3.2),\n",
    "#     gridspec_kw={\"width_ratios\": [3.2, 3.2, 0.1]},\n",
    "# )\n",
    "\n",
    "# axs[0].imshow(\n",
    "#     con_results,\n",
    "#     cmap=\"hot\",\n",
    "#     interpolation=\"nearest\",\n",
    "#     extent=[n_sampless[0], n_sampless[-1], lmbdas[-1], lmbdas[0]],\n",
    "#     aspect=(n_sampless[-1] - n_sampless[0]) / (lmbdas[-1] - lmbdas[0]),\n",
    "# )\n",
    "# axs[0].set_title(\"Mean Rectified Error\")\n",
    "# axs[0].set_ylabel(\"Lambda\")\n",
    "# axs[0].set_xlabel(\"# Samples\")\n",
    "\n",
    "# cplot = axs[1].imshow(\n",
    "#     cal_results,\n",
    "#     cmap=\"hot\",\n",
    "#     interpolation=\"nearest\",\n",
    "#     extent=[n_sampless[0], n_sampless[-1], lmbdas[-1], lmbdas[0]],\n",
    "#     aspect=(n_sampless[-1] - n_sampless[0]) / (lmbdas[-1] - lmbdas[0]),\n",
    "# )\n",
    "# axs[1].set_title(\"Mean Absolute Error\")\n",
    "# axs[1].set_ylabel(\"Lambda\")\n",
    "# axs[1].set_xlabel(\"# Samples\")\n",
    "\n",
    "# plt.colorbar(cplot, cax=axs[2])\n",
    "# fig.savefig(f\"demo-HP-out.png\")\n",
    "# plt.close()"
   ]
  }
 ],
 "metadata": {
  "kernelspec": {
   "display_name": "Python 3 (ipykernel)",
   "language": "python",
   "name": "python3"
  },
  "language_info": {
   "codemirror_mode": {
    "name": "ipython",
    "version": 3
   },
   "file_extension": ".py",
   "mimetype": "text/x-python",
   "name": "python",
   "nbconvert_exporter": "python",
   "pygments_lexer": "ipython3",
   "version": "3.9.16"
  }
 },
 "nbformat": 4,
 "nbformat_minor": 5
}
